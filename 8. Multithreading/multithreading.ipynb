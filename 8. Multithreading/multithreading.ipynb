{
 "cells": [
  {
   "cell_type": "markdown",
   "metadata": {},
   "source": [
    "### Multithreading\n",
    "1. single thread works on one task at a time\n",
    "2. multi threading if you want to work on mutiple tasks simulatneously"
   ]
  },
  {
   "cell_type": "code",
   "execution_count": 1,
   "metadata": {},
   "outputs": [],
   "source": [
    "import time"
   ]
  },
  {
   "cell_type": "code",
   "execution_count": 3,
   "metadata": {},
   "outputs": [
    {
     "name": "stdout",
     "output_type": "stream",
     "text": [
      "Example\n",
      "Hello\n",
      "CPU times: total: 0 ns\n",
      "Wall time: 5 s\n"
     ]
    }
   ],
   "source": [
    "%%time\n",
    "time.sleep(2)\n",
    "print(\"Example\")\n",
    "time.sleep(3)\n",
    "print(\"Hello\")"
   ]
  },
  {
   "cell_type": "code",
   "execution_count": 4,
   "metadata": {},
   "outputs": [],
   "source": [
    "def simple_intrest(p, n, r):\n",
    "    print(\"simple intrest execution started\")\n",
    "    time.sleep(3)\n",
    "    i = (p * n * r)/100\n",
    "    a = p + i\n",
    "    print(f\"intrest : {i:.2f} INR\")\n",
    "    print(f\"Amount : {a:.2f} INR\")\n",
    "    print(\"Simple intrest execution completed\")\n",
    "    "
   ]
  },
  {
   "cell_type": "code",
   "execution_count": 5,
   "metadata": {},
   "outputs": [
    {
     "name": "stdout",
     "output_type": "stream",
     "text": [
      "simple intrest execution started\n",
      "intrest : 20520.00 INR\n",
      "Amount : 77520.00 INR\n",
      "Simple intrest execution completed\n",
      "CPU times: total: 0 ns\n",
      "Wall time: 3 s\n"
     ]
    }
   ],
   "source": [
    "%%time\n",
    "simple_intrest(p=57000, n=5, r=7.2)"
   ]
  },
  {
   "cell_type": "code",
   "execution_count": 9,
   "metadata": {},
   "outputs": [],
   "source": [
    "def hypotenuse(a, b):\n",
    "    print(\"hypotenus function execution started\")\n",
    "    time.sleep(2)\n",
    "    c = (a**2 + b**2) ** (1/2)\n",
    "    print(f\"Hypotenus for {a} and {b} is {c:.4f}\")\n",
    "    print(\"hypotenus execution completed\")"
   ]
  },
  {
   "cell_type": "code",
   "execution_count": 10,
   "metadata": {},
   "outputs": [
    {
     "name": "stdout",
     "output_type": "stream",
     "text": [
      "hypotenus function execution started\n",
      "Hypotenus for 4 and 7 is 8.0623\n",
      "hypotenus execution completed\n",
      "CPU times: total: 0 ns\n",
      "Wall time: 2 s\n"
     ]
    }
   ],
   "source": [
    "%%time\n",
    "hypotenuse(4, 7)"
   ]
  },
  {
   "cell_type": "code",
   "execution_count": 11,
   "metadata": {},
   "outputs": [
    {
     "name": "stdout",
     "output_type": "stream",
     "text": [
      "simple intrest execution started\n",
      "intrest : 13650.00 INR\n",
      "Amount : 83650.00 INR\n",
      "Simple intrest execution completed\n",
      "hypotenus function execution started\n",
      "Hypotenus for 3 and 4 is 5.0000\n",
      "hypotenus execution completed\n",
      "CPU times: total: 0 ns\n",
      "Wall time: 5 s\n"
     ]
    }
   ],
   "source": [
    "%%time\n",
    "simple_intrest(p=70000, n=3, r=6.5)\n",
    "hypotenuse(3, 4)"
   ]
  },
  {
   "cell_type": "markdown",
   "metadata": {},
   "source": [
    "### If you want to exceute 2 functions simutaneously"
   ]
  },
  {
   "cell_type": "code",
   "execution_count": 12,
   "metadata": {},
   "outputs": [],
   "source": [
    "from threading import Thread"
   ]
  },
  {
   "cell_type": "code",
   "execution_count": 13,
   "metadata": {},
   "outputs": [
    {
     "name": "stdout",
     "output_type": "stream",
     "text": [
      "simple intrest execution startedhypotenus function execution started\n",
      "\n",
      "Hypotenus for 5 and 9 is 10.2956\n",
      "hypotenus execution completed\n",
      "intrest : 5580.00 INR\n",
      "Amount : 50580.00 INR\n",
      "Simple intrest execution completed\n",
      "CPU times: total: 0 ns\n",
      "Wall time: 3.01 s\n"
     ]
    }
   ],
   "source": [
    "%%time\n",
    "# Create and the start the threads\n",
    "th1 = Thread(target=simple_intrest, args=(45000, 2, 6.2))\n",
    "th2 = Thread(target=hypotenuse, args=(5, 9))\n",
    "\n",
    "# Start all the threads\n",
    "th1.start()\n",
    "th2.start()\n",
    "\n",
    "# Wait for all threads to finish\n",
    "th1.join()\n",
    "th2.join()"
   ]
  },
  {
   "cell_type": "markdown",
   "metadata": {},
   "source": [
    "\n",
    "### Single function but multiple values to calculate"
   ]
  },
  {
   "cell_type": "code",
   "execution_count": 14,
   "metadata": {},
   "outputs": [],
   "source": [
    "def square(n):\n",
    "    time.sleep(1)\n",
    "    s = n**2\n",
    "    print(f\"Square of number {n} is {s}\\n\\n\")"
   ]
  },
  {
   "cell_type": "code",
   "execution_count": 15,
   "metadata": {},
   "outputs": [
    {
     "name": "stdout",
     "output_type": "stream",
     "text": [
      "Square of number 12.5 is 156.25\n",
      "\n",
      "\n",
      "CPU times: total: 0 ns\n",
      "Wall time: 1 s\n"
     ]
    }
   ],
   "source": [
    "%%time\n",
    "square(12.5)"
   ]
  },
  {
   "cell_type": "code",
   "execution_count": 16,
   "metadata": {},
   "outputs": [],
   "source": [
    "a = [1, 11, 13, 5, 12, 14.5]"
   ]
  },
  {
   "cell_type": "code",
   "execution_count": 17,
   "metadata": {},
   "outputs": [
    {
     "data": {
      "text/plain": [
       "6"
      ]
     },
     "execution_count": 17,
     "metadata": {},
     "output_type": "execute_result"
    }
   ],
   "source": [
    "len(a)"
   ]
  },
  {
   "cell_type": "code",
   "execution_count": 18,
   "metadata": {},
   "outputs": [
    {
     "name": "stdout",
     "output_type": "stream",
     "text": [
      "Square of number 1 is 1\n",
      "\n",
      "\n",
      "Square of number 11 is 121\n",
      "\n",
      "\n",
      "Square of number 13 is 169\n",
      "\n",
      "\n",
      "Square of number 5 is 25\n",
      "\n",
      "\n",
      "Square of number 12 is 144\n",
      "\n",
      "\n",
      "Square of number 14.5 is 210.25\n",
      "\n",
      "\n",
      "CPU times: total: 0 ns\n",
      "Wall time: 6 s\n"
     ]
    }
   ],
   "source": [
    "%%time\n",
    "for i in a:\n",
    "    square(i)"
   ]
  },
  {
   "cell_type": "markdown",
   "metadata": {},
   "source": [
    "### Multithreading"
   ]
  },
  {
   "cell_type": "code",
   "execution_count": 19,
   "metadata": {},
   "outputs": [],
   "source": [
    "def square_mul(b: list):\n",
    "    # Create the threads \n",
    "    threads = []\n",
    "    for i in b:\n",
    "        th = Thread(target=square, args=(i,))\n",
    "        th.start()\n",
    "        threads.append(th)\n",
    "    \n",
    "    # Wait for all threads to finish\n",
    "    for th in threads:\n",
    "        th.join()"
   ]
  },
  {
   "cell_type": "code",
   "execution_count": 20,
   "metadata": {},
   "outputs": [
    {
     "data": {
      "text/plain": [
       "[1, 11, 13, 5, 12, 14.5]"
      ]
     },
     "execution_count": 20,
     "metadata": {},
     "output_type": "execute_result"
    }
   ],
   "source": [
    "a"
   ]
  },
  {
   "cell_type": "code",
   "execution_count": 21,
   "metadata": {},
   "outputs": [
    {
     "name": "stdout",
     "output_type": "stream",
     "text": [
      "Square of number 1 is 1\n",
      "\n",
      "Square of number 14.5 is 210.25\n",
      "\n",
      "\n",
      "Square of number 12 is 144\n",
      "\n",
      "\n",
      "Square of number 5 is 25\n",
      "\n",
      "\n",
      "Square of number 13 is 169\n",
      "\n",
      "\n",
      "Square of number 11 is 121\n",
      "\n",
      "\n",
      "\n",
      "CPU times: total: 0 ns\n",
      "Wall time: 1.02 s\n"
     ]
    }
   ],
   "source": [
    "%%time\n",
    "square_mul(a)"
   ]
  },
  {
   "cell_type": "code",
   "execution_count": 22,
   "metadata": {},
   "outputs": [
    {
     "data": {
      "text/plain": [
       "array([  1,   2,   3,   4,   5,   6,   7,   8,   9,  10,  11,  12,  13,\n",
       "        14,  15,  16,  17,  18,  19,  20,  21,  22,  23,  24,  25,  26,\n",
       "        27,  28,  29,  30,  31,  32,  33,  34,  35,  36,  37,  38,  39,\n",
       "        40,  41,  42,  43,  44,  45,  46,  47,  48,  49,  50,  51,  52,\n",
       "        53,  54,  55,  56,  57,  58,  59,  60,  61,  62,  63,  64,  65,\n",
       "        66,  67,  68,  69,  70,  71,  72,  73,  74,  75,  76,  77,  78,\n",
       "        79,  80,  81,  82,  83,  84,  85,  86,  87,  88,  89,  90,  91,\n",
       "        92,  93,  94,  95,  96,  97,  98,  99, 100])"
      ]
     },
     "execution_count": 22,
     "metadata": {},
     "output_type": "execute_result"
    }
   ],
   "source": [
    "import numpy as np\n",
    "b = np.arange(1, 101, 1)\n",
    "b"
   ]
  },
  {
   "cell_type": "code",
   "execution_count": 23,
   "metadata": {},
   "outputs": [
    {
     "name": "stdout",
     "output_type": "stream",
     "text": [
      "Square of number 1 is 1\n",
      "\n",
      "\n",
      "Square of number 4 is 16\n",
      "\n",
      "\n",
      "Square of number 5 is 25\n",
      "\n",
      "\n",
      "Square of number 6 is 36\n",
      "\n",
      "\n",
      "Square of number 7 is 49\n",
      "\n",
      "\n",
      "Square of number 8 is 64\n",
      "\n",
      "\n",
      "Square of number 9 is 81\n",
      "\n",
      "\n",
      "Square of number 10 is 100\n",
      "\n",
      "\n",
      "Square of number 11 is 121\n",
      "\n",
      "\n",
      "Square of number 12 is 144\n",
      "\n",
      "\n",
      "Square of number 13 is 169\n",
      "\n",
      "\n",
      "Square of number 14 is 196\n",
      "\n",
      "\n",
      "Square of number 2 is 4\n",
      "\n",
      "\n",
      "Square of number 3 is 9\n",
      "\n",
      "\n",
      "Square of number 17 is 289\n",
      "\n",
      "\n",
      "Square of number 16 is 256\n",
      "\n",
      "\n",
      "Square of number 15 is 225\n",
      "\n",
      "\n",
      "Square of number 19 is 361\n",
      "\n",
      "\n",
      "Square of number 18 is 324\n",
      "\n",
      "\n",
      "Square of number 21 is 441\n",
      "\n",
      "\n",
      "Square of number 20 is 400\n",
      "\n",
      "\n",
      "Square of number 22 is 484\n",
      "\n",
      "\n",
      "Square of number 23 is 529\n",
      "\n",
      "\n",
      "Square of number 24 is 576\n",
      "\n",
      "\n",
      "Square of number 25 is 625\n",
      "\n",
      "\n",
      "Square of number 26 is 676\n",
      "\n",
      "\n",
      "Square of number 28 is 784\n",
      "\n",
      "\n",
      "Square of number 27 is 729\n",
      "\n",
      "\n",
      "Square of number 29 is 841\n",
      "\n",
      "\n",
      "Square of number 30 is 900\n",
      "\n",
      "\n",
      "Square of number 31 is 961\n",
      "\n",
      "\n",
      "Square of number 32 is 1024\n",
      "\n",
      "\n",
      "Square of number 33 is 1089\n",
      "\n",
      "\n",
      "Square of number 34 is 1156\n",
      "\n",
      "\n",
      "Square of number 35 is 1225\n",
      "\n",
      "\n",
      "Square of number 36 is 1296\n",
      "\n",
      "\n",
      "Square of number 37 is 1369\n",
      "\n",
      "\n",
      "Square of number 38 is 1444\n",
      "\n",
      "\n",
      "Square of number 39 is 1521\n",
      "\n",
      "\n",
      "Square of number 40 is 1600\n",
      "\n",
      "\n",
      "Square of number 41 is 1681\n",
      "\n",
      "\n",
      "Square of number 42 is 1764\n",
      "\n",
      "\n",
      "Square of number 43 is 1849\n",
      "\n",
      "\n",
      "Square of number 44 is 1936\n",
      "\n",
      "\n",
      "Square of number 46 is 2116\n",
      "\n",
      "\n",
      "Square of number 45 is 2025\n",
      "\n",
      "\n",
      "Square of number 47 is 2209\n",
      "\n",
      "\n",
      "Square of number 48 is 2304\n",
      "\n",
      "\n",
      "Square of number 49 is 2401\n",
      "\n",
      "\n",
      "Square of number 51 is 2601\n",
      "\n",
      "\n",
      "Square of number 50 is 2500\n",
      "\n",
      "\n",
      "Square of number 52 is 2704\n",
      "\n",
      "\n",
      "Square of number 53 is 2809\n",
      "\n",
      "\n",
      "Square of number 54 is 2916\n",
      "\n",
      "\n",
      "Square of number 56 is 3136\n",
      "\n",
      "\n",
      "Square of number 55 is 3025\n",
      "\n",
      "\n",
      "Square of number 57 is 3249\n",
      "\n",
      "\n",
      "Square of number 58 is 3364\n",
      "\n",
      "\n",
      "Square of number 59 is 3481\n",
      "\n",
      "\n",
      "Square of number 60 is 3600\n",
      "\n",
      "\n",
      "Square of number 61 is 3721\n",
      "\n",
      "\n",
      "Square of number 62 is 3844\n",
      "\n",
      "\n",
      "Square of number 63 is 3969\n",
      "\n",
      "\n",
      "Square of number 64 is 4096\n",
      "\n",
      "\n",
      "Square of number 65 is 4225\n",
      "\n",
      "\n",
      "Square of number 67 is 4489\n",
      "\n",
      "\n",
      "Square of number 66 is 4356\n",
      "\n",
      "\n",
      "Square of number 68 is 4624\n",
      "\n",
      "\n",
      "Square of number 69 is 4761\n",
      "\n",
      "\n",
      "Square of number 70 is 4900\n",
      "\n",
      "\n",
      "Square of number 71 is 5041\n",
      "\n",
      "\n",
      "Square of number 72 is 5184\n",
      "\n",
      "\n",
      "Square of number 73 is 5329\n",
      "\n",
      "\n",
      "Square of number 74 is 5476\n",
      "\n",
      "\n",
      "Square of number 75 is 5625\n",
      "\n",
      "\n",
      "Square of number 76 is 5776\n",
      "\n",
      "\n",
      "Square of number 77 is 5929\n",
      "\n",
      "\n",
      "Square of number 78 is 6084\n",
      "\n",
      "\n",
      "Square of number 80 is 6400\n",
      "\n",
      "\n",
      "Square of number 79 is 6241\n",
      "\n",
      "\n",
      "Square of number 81 is 6561\n",
      "\n",
      "\n",
      "Square of number 82 is 6724\n",
      "\n",
      "\n",
      "Square of number 83 is 6889\n",
      "\n",
      "\n",
      "Square of number 84 is 7056\n",
      "\n",
      "\n",
      "Square of number 85 is 7225\n",
      "\n",
      "\n",
      "Square of number 86 is 7396\n",
      "\n",
      "\n",
      "Square of number 87 is 7569\n",
      "\n",
      "\n",
      "Square of number 88 is 7744\n",
      "\n",
      "\n",
      "Square of number 89 is 7921\n",
      "\n",
      "\n",
      "Square of number 90 is 8100\n",
      "\n",
      "\n",
      "Square of number 91 is 8281\n",
      "\n",
      "\n",
      "Square of number 92 is 8464\n",
      "\n",
      "\n",
      "Square of number 93 is 8649\n",
      "\n",
      "\n",
      "Square of number 94 is 8836\n",
      "\n",
      "\n",
      "Square of number 95 is 9025\n",
      "\n",
      "\n",
      "Square of number 96 is 9216\n",
      "\n",
      "\n",
      "Square of number 97 is 9409\n",
      "\n",
      "\n",
      "Square of number 98 is 9604\n",
      "\n",
      "\n",
      "Square of number 100 is 10000\n",
      "\n",
      "\n",
      "Square of number 99 is 9801\n",
      "\n",
      "\n",
      "CPU times: total: 15.6 ms\n",
      "Wall time: 1.06 s\n"
     ]
    }
   ],
   "source": [
    "%%time\n",
    "square_mul(b)"
   ]
  },
  {
   "cell_type": "code",
   "execution_count": null,
   "metadata": {},
   "outputs": [],
   "source": []
  }
 ],
 "metadata": {
  "kernelspec": {
   "display_name": "venv",
   "language": "python",
   "name": "python3"
  },
  "language_info": {
   "codemirror_mode": {
    "name": "ipython",
    "version": 3
   },
   "file_extension": ".py",
   "mimetype": "text/x-python",
   "name": "python",
   "nbconvert_exporter": "python",
   "pygments_lexer": "ipython3",
   "version": "3.11.9"
  }
 },
 "nbformat": 4,
 "nbformat_minor": 2
}
