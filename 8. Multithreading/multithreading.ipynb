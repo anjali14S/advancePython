{
 "cells": [
  {
   "cell_type": "markdown",
   "metadata": {},
   "source": [
    "### Multithreading\n",
    "1. single thread works on one task at a time\n",
    "2. multi threading if you want to work on mutiple tasks simulatneously"
   ]
  },
  {
   "cell_type": "code",
   "execution_count": 1,
   "metadata": {},
   "outputs": [],
   "source": [
    "import time"
   ]
  },
  {
   "cell_type": "code",
   "execution_count": 3,
   "metadata": {},
   "outputs": [
    {
     "name": "stdout",
     "output_type": "stream",
     "text": [
      "Example\n",
      "Hello\n",
      "CPU times: total: 0 ns\n",
      "Wall time: 5 s\n"
     ]
    }
   ],
   "source": [
    "%%time\n",
    "time.sleep(2)\n",
    "print(\"Example\")\n",
    "time.sleep(3)\n",
    "print(\"Hello\")"
   ]
  },
  {
   "cell_type": "code",
   "execution_count": 4,
   "metadata": {},
   "outputs": [],
   "source": [
    "def simple_intrest(p, n, r):\n",
    "    print(\"simple intrest execution started\")\n",
    "    time.sleep(3)\n",
    "    i = (p * n * r)/100\n",
    "    a = p + i\n",
    "    print(f\"intrest : {i:.2f} INR\")\n",
    "    print(f\"Amount : {a:.2f} INR\")\n",
    "    print(\"Simple intrest execution completed\")\n",
    "    "
   ]
  },
  {
   "cell_type": "code",
   "execution_count": 5,
   "metadata": {},
   "outputs": [
    {
     "name": "stdout",
     "output_type": "stream",
     "text": [
      "simple intrest execution started\n",
      "intrest : 20520.00 INR\n",
      "Amount : 77520.00 INR\n",
      "Simple intrest execution completed\n",
      "CPU times: total: 0 ns\n",
      "Wall time: 3 s\n"
     ]
    }
   ],
   "source": [
    "%%time\n",
    "simple_intrest(p=57000, n=5, r=7.2)"
   ]
  },
  {
   "cell_type": "code",
   "execution_count": 9,
   "metadata": {},
   "outputs": [],
   "source": [
    "def hypotenuse(a, b):\n",
    "    print(\"hypotenus function execution started\")\n",
    "    time.sleep(2)\n",
    "    c = (a**2 + b**2) ** (1/2)\n",
    "    print(f\"Hypotenus for {a} and {b} is {c:.4f}\")\n",
    "    print(\"hypotenus execution completed\")"
   ]
  },
  {
   "cell_type": "code",
   "execution_count": 10,
   "metadata": {},
   "outputs": [
    {
     "name": "stdout",
     "output_type": "stream",
     "text": [
      "hypotenus function execution started\n",
      "Hypotenus for 4 and 7 is 8.0623\n",
      "hypotenus execution completed\n",
      "CPU times: total: 0 ns\n",
      "Wall time: 2 s\n"
     ]
    }
   ],
   "source": [
    "%%time\n",
    "hypotenuse(4, 7)"
   ]
  },
  {
   "cell_type": "code",
   "execution_count": 11,
   "metadata": {},
   "outputs": [
    {
     "name": "stdout",
     "output_type": "stream",
     "text": [
      "simple intrest execution started\n",
      "intrest : 13650.00 INR\n",
      "Amount : 83650.00 INR\n",
      "Simple intrest execution completed\n",
      "hypotenus function execution started\n",
      "Hypotenus for 3 and 4 is 5.0000\n",
      "hypotenus execution completed\n",
      "CPU times: total: 0 ns\n",
      "Wall time: 5 s\n"
     ]
    }
   ],
   "source": [
    "%%time\n",
    "simple_intrest(p=70000, n=3, r=6.5)\n",
    "hypotenuse(3, 4)"
   ]
  },
  {
   "cell_type": "markdown",
   "metadata": {},
   "source": [
    "### If you want to exceute 2 functions simutaneously"
   ]
  },
  {
   "cell_type": "code",
   "execution_count": 12,
   "metadata": {},
   "outputs": [],
   "source": [
    "from threading import Thread"
   ]
  },
  {
   "cell_type": "code",
   "execution_count": 13,
   "metadata": {},
   "outputs": [
    {
     "name": "stdout",
     "output_type": "stream",
     "text": [
      "simple intrest execution startedhypotenus function execution started\n",
      "\n",
      "Hypotenus for 5 and 9 is 10.2956\n",
      "hypotenus execution completed\n",
      "intrest : 5580.00 INR\n",
      "Amount : 50580.00 INR\n",
      "Simple intrest execution completed\n",
      "CPU times: total: 0 ns\n",
      "Wall time: 3.01 s\n"
     ]
    }
   ],
   "source": [
    "%%time\n",
    "# Create and the start the threads\n",
    "th1 = Thread(target=simple_intrest, args=(45000, 2, 6.2))\n",
    "th2 = Thread(target=hypotenuse, args=(5, 9))\n",
    "\n",
    "# Start all the threads\n",
    "th1.start()\n",
    "th2.start()\n",
    "\n",
    "# Wait for all threads to finish\n",
    "th1.join()\n",
    "th2.join()"
   ]
  },
  {
   "cell_type": "markdown",
   "metadata": {},
   "source": [
    "\n",
    "### Single function but multiple values to calculate"
   ]
  },
  {
   "cell_type": "code",
   "execution_count": 14,
   "metadata": {},
   "outputs": [],
   "source": [
    "def square(n):\n",
    "    time.sleep(1)\n",
    "    s = n**2\n",
    "    print(f\"Square of number {n} is {s}\\n\\n\")"
   ]
  },
  {
   "cell_type": "code",
   "execution_count": 15,
   "metadata": {},
   "outputs": [
    {
     "name": "stdout",
     "output_type": "stream",
     "text": [
      "Square of number 12.5 is 156.25\n",
      "\n",
      "\n",
      "CPU times: total: 0 ns\n",
      "Wall time: 1 s\n"
     ]
    }
   ],
   "source": [
    "%%time\n",
    "square(12.5)"
   ]
  },
  {
   "cell_type": "code",
   "execution_count": 16,
   "metadata": {},
   "outputs": [],
   "source": [
    "a = [1, 11, 13, 5, 12, 14.5]"
   ]
  },
  {
   "cell_type": "code",
   "execution_count": 17,
   "metadata": {},
   "outputs": [
    {
     "data": {
      "text/plain": [
       "6"
      ]
     },
     "execution_count": 17,
     "metadata": {},
     "output_type": "execute_result"
    }
   ],
   "source": [
    "len(a)"
   ]
  },
  {
   "cell_type": "code",
   "execution_count": 18,
   "metadata": {},
   "outputs": [
    {
     "name": "stdout",
     "output_type": "stream",
     "text": [
      "Square of number 1 is 1\n",
      "\n",
      "\n",
      "Square of number 11 is 121\n",
      "\n",
      "\n",
      "Square of number 13 is 169\n",
      "\n",
      "\n",
      "Square of number 5 is 25\n",
      "\n",
      "\n",
      "Square of number 12 is 144\n",
      "\n",
      "\n",
      "Square of number 14.5 is 210.25\n",
      "\n",
      "\n",
      "CPU times: total: 0 ns\n",
      "Wall time: 6 s\n"
     ]
    }
   ],
   "source": [
    "%%time\n",
    "for i in a:\n",
    "    square(i)"
   ]
  },
  {
   "cell_type": "markdown",
   "metadata": {},
   "source": [
    "### Multithreading"
   ]
  },
  {
   "cell_type": "code",
   "execution_count": 19,
   "metadata": {},
   "outputs": [],
   "source": [
    "def square_mul(b: list):\n",
    "    # Create the threads \n",
    "    threads = []\n",
    "    for i in b:\n",
    "        th = Thread(target=square, args=(i,))\n",
    "        th.start()\n",
    "        threads.append(th)\n",
    "    \n",
    "    # Wait for all threads to finish\n",
    "    for th in threads:\n",
    "        th.join()"
   ]
  },
  {
   "cell_type": "code",
   "execution_count": 20,
   "metadata": {},
   "outputs": [
    {
     "data": {
      "text/plain": [
       "[1, 11, 13, 5, 12, 14.5]"
      ]
     },
     "execution_count": 20,
     "metadata": {},
     "output_type": "execute_result"
    }
   ],
   "source": [
    "a"
   ]
  },
  {
   "cell_type": "code",
   "execution_count": 21,
   "metadata": {},
   "outputs": [
    {
     "name": "stdout",
     "output_type": "stream",
     "text": [
      "Square of number 1 is 1\n",
      "\n",
      "Square of number 14.5 is 210.25\n",
      "\n",
      "\n",
      "Square of number 12 is 144\n",
      "\n",
      "\n",
      "Square of number 5 is 25\n",
      "\n",
      "\n",
      "Square of number 13 is 169\n",
      "\n",
      "\n",
      "Square of number 11 is 121\n",
      "\n",
      "\n",
      "\n",
      "CPU times: total: 0 ns\n",
      "Wall time: 1.02 s\n"
     ]
    }
   ],
   "source": [
    "%%time\n",
    "square_mul(a)"
   ]
  },
  {
   "cell_type": "code",
   "execution_count": 22,
   "metadata": {},
   "outputs": [
    {
     "data": {
      "text/plain": [
       "array([  1,   2,   3,   4,   5,   6,   7,   8,   9,  10,  11,  12,  13,\n",
       "        14,  15,  16,  17,  18,  19,  20,  21,  22,  23,  24,  25,  26,\n",
       "        27,  28,  29,  30,  31,  32,  33,  34,  35,  36,  37,  38,  39,\n",
       "        40,  41,  42,  43,  44,  45,  46,  47,  48,  49,  50,  51,  52,\n",
       "        53,  54,  55,  56,  57,  58,  59,  60,  61,  62,  63,  64,  65,\n",
       "        66,  67,  68,  69,  70,  71,  72,  73,  74,  75,  76,  77,  78,\n",
       "        79,  80,  81,  82,  83,  84,  85,  86,  87,  88,  89,  90,  91,\n",
       "        92,  93,  94,  95,  96,  97,  98,  99, 100])"
      ]
     },
     "execution_count": 22,
     "metadata": {},
     "output_type": "execute_result"
    }
   ],
   "source": [
    "import numpy as np\n",
    "b = np.arange(1, 101, 1)\n",
    "b"
   ]
  },
  {
   "cell_type": "code",
   "execution_count": 23,
   "metadata": {},
   "outputs": [
    {
     "name": "stdout",
     "output_type": "stream",
     "text": [
      "Square of number 1 is 1\n",
      "\n",
      "\n",
      "Square of number 4 is 16\n",
      "\n",
      "\n",
      "Square of number 5 is 25\n",
      "\n",
      "\n",
      "Square of number 6 is 36\n",
      "\n",
      "\n",
      "Square of number 7 is 49\n",
      "\n",
      "\n",
      "Square of number 8 is 64\n",
      "\n",
      "\n",
      "Square of number 9 is 81\n",
      "\n",
      "\n",
      "Square of number 10 is 100\n",
      "\n",
      "\n",
      "Square of number 11 is 121\n",
      "\n",
      "\n",
      "Square of number 12 is 144\n",
      "\n",
      "\n",
      "Square of number 13 is 169\n",
      "\n",
      "\n",
      "Square of number 14 is 196\n",
      "\n",
      "\n",
      "Square of number 2 is 4\n",
      "\n",
      "\n",
      "Square of number 3 is 9\n",
      "\n",
      "\n",
      "Square of number 17 is 289\n",
      "\n",
      "\n",
      "Square of number 16 is 256\n",
      "\n",
      "\n",
      "Square of number 15 is 225\n",
      "\n",
      "\n",
      "Square of number 19 is 361\n",
      "\n",
      "\n",
      "Square of number 18 is 324\n",
      "\n",
      "\n",
      "Square of number 21 is 441\n",
      "\n",
      "\n",
      "Square of number 20 is 400\n",
      "\n",
      "\n",
      "Square of number 22 is 484\n",
      "\n",
      "\n",
      "Square of number 23 is 529\n",
      "\n",
      "\n",
      "Square of number 24 is 576\n",
      "\n",
      "\n",
      "Square of number 25 is 625\n",
      "\n",
      "\n",
      "Square of number 26 is 676\n",
      "\n",
      "\n",
      "Square of number 28 is 784\n",
      "\n",
      "\n",
      "Square of number 27 is 729\n",
      "\n",
      "\n",
      "Square of number 29 is 841\n",
      "\n",
      "\n",
      "Square of number 30 is 900\n",
      "\n",
      "\n",
      "Square of number 31 is 961\n",
      "\n",
      "\n",
      "Square of number 32 is 1024\n",
      "\n",
      "\n",
      "Square of number 33 is 1089\n",
      "\n",
      "\n",
      "Square of number 34 is 1156\n",
      "\n",
      "\n",
      "Square of number 35 is 1225\n",
      "\n",
      "\n",
      "Square of number 36 is 1296\n",
      "\n",
      "\n",
      "Square of number 37 is 1369\n",
      "\n",
      "\n",
      "Square of number 38 is 1444\n",
      "\n",
      "\n",
      "Square of number 39 is 1521\n",
      "\n",
      "\n",
      "Square of number 40 is 1600\n",
      "\n",
      "\n",
      "Square of number 41 is 1681\n",
      "\n",
      "\n",
      "Square of number 42 is 1764\n",
      "\n",
      "\n",
      "Square of number 43 is 1849\n",
      "\n",
      "\n",
      "Square of number 44 is 1936\n",
      "\n",
      "\n",
      "Square of number 46 is 2116\n",
      "\n",
      "\n",
      "Square of number 45 is 2025\n",
      "\n",
      "\n",
      "Square of number 47 is 2209\n",
      "\n",
      "\n",
      "Square of number 48 is 2304\n",
      "\n",
      "\n",
      "Square of number 49 is 2401\n",
      "\n",
      "\n",
      "Square of number 51 is 2601\n",
      "\n",
      "\n",
      "Square of number 50 is 2500\n",
      "\n",
      "\n",
      "Square of number 52 is 2704\n",
      "\n",
      "\n",
      "Square of number 53 is 2809\n",
      "\n",
      "\n",
      "Square of number 54 is 2916\n",
      "\n",
      "\n",
      "Square of number 56 is 3136\n",
      "\n",
      "\n",
      "Square of number 55 is 3025\n",
      "\n",
      "\n",
      "Square of number 57 is 3249\n",
      "\n",
      "\n",
      "Square of number 58 is 3364\n",
      "\n",
      "\n",
      "Square of number 59 is 3481\n",
      "\n",
      "\n",
      "Square of number 60 is 3600\n",
      "\n",
      "\n",
      "Square of number 61 is 3721\n",
      "\n",
      "\n",
      "Square of number 62 is 3844\n",
      "\n",
      "\n",
      "Square of number 63 is 3969\n",
      "\n",
      "\n",
      "Square of number 64 is 4096\n",
      "\n",
      "\n",
      "Square of number 65 is 4225\n",
      "\n",
      "\n",
      "Square of number 67 is 4489\n",
      "\n",
      "\n",
      "Square of number 66 is 4356\n",
      "\n",
      "\n",
      "Square of number 68 is 4624\n",
      "\n",
      "\n",
      "Square of number 69 is 4761\n",
      "\n",
      "\n",
      "Square of number 70 is 4900\n",
      "\n",
      "\n",
      "Square of number 71 is 5041\n",
      "\n",
      "\n",
      "Square of number 72 is 5184\n",
      "\n",
      "\n",
      "Square of number 73 is 5329\n",
      "\n",
      "\n",
      "Square of number 74 is 5476\n",
      "\n",
      "\n",
      "Square of number 75 is 5625\n",
      "\n",
      "\n",
      "Square of number 76 is 5776\n",
      "\n",
      "\n",
      "Square of number 77 is 5929\n",
      "\n",
      "\n",
      "Square of number 78 is 6084\n",
      "\n",
      "\n",
      "Square of number 80 is 6400\n",
      "\n",
      "\n",
      "Square of number 79 is 6241\n",
      "\n",
      "\n",
      "Square of number 81 is 6561\n",
      "\n",
      "\n",
      "Square of number 82 is 6724\n",
      "\n",
      "\n",
      "Square of number 83 is 6889\n",
      "\n",
      "\n",
      "Square of number 84 is 7056\n",
      "\n",
      "\n",
      "Square of number 85 is 7225\n",
      "\n",
      "\n",
      "Square of number 86 is 7396\n",
      "\n",
      "\n",
      "Square of number 87 is 7569\n",
      "\n",
      "\n",
      "Square of number 88 is 7744\n",
      "\n",
      "\n",
      "Square of number 89 is 7921\n",
      "\n",
      "\n",
      "Square of number 90 is 8100\n",
      "\n",
      "\n",
      "Square of number 91 is 8281\n",
      "\n",
      "\n",
      "Square of number 92 is 8464\n",
      "\n",
      "\n",
      "Square of number 93 is 8649\n",
      "\n",
      "\n",
      "Square of number 94 is 8836\n",
      "\n",
      "\n",
      "Square of number 95 is 9025\n",
      "\n",
      "\n",
      "Square of number 96 is 9216\n",
      "\n",
      "\n",
      "Square of number 97 is 9409\n",
      "\n",
      "\n",
      "Square of number 98 is 9604\n",
      "\n",
      "\n",
      "Square of number 100 is 10000\n",
      "\n",
      "\n",
      "Square of number 99 is 9801\n",
      "\n",
      "\n",
      "CPU times: total: 15.6 ms\n",
      "Wall time: 1.06 s\n"
     ]
    }
   ],
   "source": [
    "%%time\n",
    "square_mul(b)"
   ]
  },
  {
   "cell_type": "code",
   "execution_count": 26,
   "metadata": {},
   "outputs": [],
   "source": [
    "urls = [\n",
    "    \"https://raw.githubusercontent.com/utkarshg1/mlproject_regression/main/artifacts/data.csv\",\n",
    "    \"https://raw.githubusercontent.com/utkarshg1/mlproject_regression/main/artifacts/test.csv\",\n",
    "    \"https://raw.githubusercontent.com/utkarshg1/mlproject_regression/main/artifacts/train\"\n",
    "]"
   ]
  },
  {
   "cell_type": "code",
   "execution_count": 27,
   "metadata": {},
   "outputs": [
    {
     "data": {
      "text/plain": [
       "'https://raw.githubusercontent.com/utkarshg1/mlproject_regression/main/artifacts/data.csv'"
      ]
     },
     "execution_count": 27,
     "metadata": {},
     "output_type": "execute_result"
    }
   ],
   "source": [
    "urls[0]\n"
   ]
  },
  {
   "cell_type": "code",
   "execution_count": 28,
   "metadata": {},
   "outputs": [
    {
     "data": {
      "text/plain": [
       "['https:',\n",
       " '',\n",
       " 'raw.githubusercontent.com',\n",
       " 'utkarshg1',\n",
       " 'mlproject_regression',\n",
       " 'main',\n",
       " 'artifacts',\n",
       " 'data.csv']"
      ]
     },
     "execution_count": 28,
     "metadata": {},
     "output_type": "execute_result"
    }
   ],
   "source": [
    "urls[0].split(\"/\")"
   ]
  },
  {
   "cell_type": "code",
   "execution_count": 29,
   "metadata": {},
   "outputs": [
    {
     "data": {
      "text/plain": [
       "'data.csv'"
      ]
     },
     "execution_count": 29,
     "metadata": {},
     "output_type": "execute_result"
    }
   ],
   "source": [
    "urls[0].split(\"/\")[-1]"
   ]
  },
  {
   "cell_type": "code",
   "execution_count": 30,
   "metadata": {},
   "outputs": [],
   "source": [
    "from urllib.request import urlretrieve"
   ]
  },
  {
   "cell_type": "code",
   "execution_count": 31,
   "metadata": {},
   "outputs": [],
   "source": [
    "def download_file(url: str):\n",
    "    filename = url.split(\"/\")[-1]\n",
    "    print(f\"{filename} download started ...\")\n",
    "    urlretrieve(url, filename)\n",
    "    print(f\"{filename} download complete\")"
   ]
  },
  {
   "cell_type": "code",
   "execution_count": 32,
   "metadata": {},
   "outputs": [
    {
     "data": {
      "text/plain": [
       "['https://raw.githubusercontent.com/utkarshg1/mlproject_regression/main/artifacts/data.csv',\n",
       " 'https://raw.githubusercontent.com/utkarshg1/mlproject_regression/main/artifacts/test.csv',\n",
       " 'https://raw.githubusercontent.com/utkarshg1/mlproject_regression/main/artifacts/train']"
      ]
     },
     "execution_count": 32,
     "metadata": {},
     "output_type": "execute_result"
    }
   ],
   "source": [
    "urls"
   ]
  },
  {
   "cell_type": "code",
   "execution_count": 34,
   "metadata": {},
   "outputs": [
    {
     "name": "stdout",
     "output_type": "stream",
     "text": [
      "data.csv download started ...\n",
      "data.csv download complete\n",
      "test.csv download started ...\n",
      "test.csv download complete\n",
      "train download started ...\n"
     ]
    },
    {
     "ename": "HTTPError",
     "evalue": "HTTP Error 404: Not Found",
     "output_type": "error",
     "traceback": [
      "\u001b[1;31m---------------------------------------------------------------------------\u001b[0m",
      "\u001b[1;31mHTTPError\u001b[0m                                 Traceback (most recent call last)",
      "File \u001b[1;32m<timed exec>:2\u001b[0m\n",
      "Cell \u001b[1;32mIn[31], line 4\u001b[0m, in \u001b[0;36mdownload_file\u001b[1;34m(url)\u001b[0m\n\u001b[0;32m      2\u001b[0m filename \u001b[38;5;241m=\u001b[39m url\u001b[38;5;241m.\u001b[39msplit(\u001b[38;5;124m\"\u001b[39m\u001b[38;5;124m/\u001b[39m\u001b[38;5;124m\"\u001b[39m)[\u001b[38;5;241m-\u001b[39m\u001b[38;5;241m1\u001b[39m]\n\u001b[0;32m      3\u001b[0m \u001b[38;5;28mprint\u001b[39m(\u001b[38;5;124mf\u001b[39m\u001b[38;5;124m\"\u001b[39m\u001b[38;5;132;01m{\u001b[39;00mfilename\u001b[38;5;132;01m}\u001b[39;00m\u001b[38;5;124m download started ...\u001b[39m\u001b[38;5;124m\"\u001b[39m)\n\u001b[1;32m----> 4\u001b[0m \u001b[43murlretrieve\u001b[49m\u001b[43m(\u001b[49m\u001b[43murl\u001b[49m\u001b[43m,\u001b[49m\u001b[43m \u001b[49m\u001b[43mfilename\u001b[49m\u001b[43m)\u001b[49m\n\u001b[0;32m      5\u001b[0m \u001b[38;5;28mprint\u001b[39m(\u001b[38;5;124mf\u001b[39m\u001b[38;5;124m\"\u001b[39m\u001b[38;5;132;01m{\u001b[39;00mfilename\u001b[38;5;132;01m}\u001b[39;00m\u001b[38;5;124m download complete\u001b[39m\u001b[38;5;124m\"\u001b[39m)\n",
      "File \u001b[1;32mc:\\Users\\anjus\\OneDrive\\Desktop\\Python\\.conda\\Lib\\urllib\\request.py:241\u001b[0m, in \u001b[0;36murlretrieve\u001b[1;34m(url, filename, reporthook, data)\u001b[0m\n\u001b[0;32m    224\u001b[0m \u001b[38;5;250m\u001b[39m\u001b[38;5;124;03m\"\"\"\u001b[39;00m\n\u001b[0;32m    225\u001b[0m \u001b[38;5;124;03mRetrieve a URL into a temporary location on disk.\u001b[39;00m\n\u001b[0;32m    226\u001b[0m \n\u001b[1;32m   (...)\u001b[0m\n\u001b[0;32m    237\u001b[0m \u001b[38;5;124;03mdata file as well as the resulting HTTPMessage object.\u001b[39;00m\n\u001b[0;32m    238\u001b[0m \u001b[38;5;124;03m\"\"\"\u001b[39;00m\n\u001b[0;32m    239\u001b[0m url_type, path \u001b[38;5;241m=\u001b[39m _splittype(url)\n\u001b[1;32m--> 241\u001b[0m \u001b[38;5;28;01mwith\u001b[39;00m contextlib\u001b[38;5;241m.\u001b[39mclosing(\u001b[43murlopen\u001b[49m\u001b[43m(\u001b[49m\u001b[43murl\u001b[49m\u001b[43m,\u001b[49m\u001b[43m \u001b[49m\u001b[43mdata\u001b[49m\u001b[43m)\u001b[49m) \u001b[38;5;28;01mas\u001b[39;00m fp:\n\u001b[0;32m    242\u001b[0m     headers \u001b[38;5;241m=\u001b[39m fp\u001b[38;5;241m.\u001b[39minfo()\n\u001b[0;32m    244\u001b[0m     \u001b[38;5;66;03m# Just return the local path and the \"headers\" for file://\u001b[39;00m\n\u001b[0;32m    245\u001b[0m     \u001b[38;5;66;03m# URLs. No sense in performing a copy unless requested.\u001b[39;00m\n",
      "File \u001b[1;32mc:\\Users\\anjus\\OneDrive\\Desktop\\Python\\.conda\\Lib\\urllib\\request.py:216\u001b[0m, in \u001b[0;36murlopen\u001b[1;34m(url, data, timeout, cafile, capath, cadefault, context)\u001b[0m\n\u001b[0;32m    214\u001b[0m \u001b[38;5;28;01melse\u001b[39;00m:\n\u001b[0;32m    215\u001b[0m     opener \u001b[38;5;241m=\u001b[39m _opener\n\u001b[1;32m--> 216\u001b[0m \u001b[38;5;28;01mreturn\u001b[39;00m \u001b[43mopener\u001b[49m\u001b[38;5;241;43m.\u001b[39;49m\u001b[43mopen\u001b[49m\u001b[43m(\u001b[49m\u001b[43murl\u001b[49m\u001b[43m,\u001b[49m\u001b[43m \u001b[49m\u001b[43mdata\u001b[49m\u001b[43m,\u001b[49m\u001b[43m \u001b[49m\u001b[43mtimeout\u001b[49m\u001b[43m)\u001b[49m\n",
      "File \u001b[1;32mc:\\Users\\anjus\\OneDrive\\Desktop\\Python\\.conda\\Lib\\urllib\\request.py:525\u001b[0m, in \u001b[0;36mOpenerDirector.open\u001b[1;34m(self, fullurl, data, timeout)\u001b[0m\n\u001b[0;32m    523\u001b[0m \u001b[38;5;28;01mfor\u001b[39;00m processor \u001b[38;5;129;01min\u001b[39;00m \u001b[38;5;28mself\u001b[39m\u001b[38;5;241m.\u001b[39mprocess_response\u001b[38;5;241m.\u001b[39mget(protocol, []):\n\u001b[0;32m    524\u001b[0m     meth \u001b[38;5;241m=\u001b[39m \u001b[38;5;28mgetattr\u001b[39m(processor, meth_name)\n\u001b[1;32m--> 525\u001b[0m     response \u001b[38;5;241m=\u001b[39m \u001b[43mmeth\u001b[49m\u001b[43m(\u001b[49m\u001b[43mreq\u001b[49m\u001b[43m,\u001b[49m\u001b[43m \u001b[49m\u001b[43mresponse\u001b[49m\u001b[43m)\u001b[49m\n\u001b[0;32m    527\u001b[0m \u001b[38;5;28;01mreturn\u001b[39;00m response\n",
      "File \u001b[1;32mc:\\Users\\anjus\\OneDrive\\Desktop\\Python\\.conda\\Lib\\urllib\\request.py:634\u001b[0m, in \u001b[0;36mHTTPErrorProcessor.http_response\u001b[1;34m(self, request, response)\u001b[0m\n\u001b[0;32m    631\u001b[0m \u001b[38;5;66;03m# According to RFC 2616, \"2xx\" code indicates that the client's\u001b[39;00m\n\u001b[0;32m    632\u001b[0m \u001b[38;5;66;03m# request was successfully received, understood, and accepted.\u001b[39;00m\n\u001b[0;32m    633\u001b[0m \u001b[38;5;28;01mif\u001b[39;00m \u001b[38;5;129;01mnot\u001b[39;00m (\u001b[38;5;241m200\u001b[39m \u001b[38;5;241m<\u001b[39m\u001b[38;5;241m=\u001b[39m code \u001b[38;5;241m<\u001b[39m \u001b[38;5;241m300\u001b[39m):\n\u001b[1;32m--> 634\u001b[0m     response \u001b[38;5;241m=\u001b[39m \u001b[38;5;28;43mself\u001b[39;49m\u001b[38;5;241;43m.\u001b[39;49m\u001b[43mparent\u001b[49m\u001b[38;5;241;43m.\u001b[39;49m\u001b[43merror\u001b[49m\u001b[43m(\u001b[49m\n\u001b[0;32m    635\u001b[0m \u001b[43m        \u001b[49m\u001b[38;5;124;43m'\u001b[39;49m\u001b[38;5;124;43mhttp\u001b[39;49m\u001b[38;5;124;43m'\u001b[39;49m\u001b[43m,\u001b[49m\u001b[43m \u001b[49m\u001b[43mrequest\u001b[49m\u001b[43m,\u001b[49m\u001b[43m \u001b[49m\u001b[43mresponse\u001b[49m\u001b[43m,\u001b[49m\u001b[43m \u001b[49m\u001b[43mcode\u001b[49m\u001b[43m,\u001b[49m\u001b[43m \u001b[49m\u001b[43mmsg\u001b[49m\u001b[43m,\u001b[49m\u001b[43m \u001b[49m\u001b[43mhdrs\u001b[49m\u001b[43m)\u001b[49m\n\u001b[0;32m    637\u001b[0m \u001b[38;5;28;01mreturn\u001b[39;00m response\n",
      "File \u001b[1;32mc:\\Users\\anjus\\OneDrive\\Desktop\\Python\\.conda\\Lib\\urllib\\request.py:563\u001b[0m, in \u001b[0;36mOpenerDirector.error\u001b[1;34m(self, proto, *args)\u001b[0m\n\u001b[0;32m    561\u001b[0m \u001b[38;5;28;01mif\u001b[39;00m http_err:\n\u001b[0;32m    562\u001b[0m     args \u001b[38;5;241m=\u001b[39m (\u001b[38;5;28mdict\u001b[39m, \u001b[38;5;124m'\u001b[39m\u001b[38;5;124mdefault\u001b[39m\u001b[38;5;124m'\u001b[39m, \u001b[38;5;124m'\u001b[39m\u001b[38;5;124mhttp_error_default\u001b[39m\u001b[38;5;124m'\u001b[39m) \u001b[38;5;241m+\u001b[39m orig_args\n\u001b[1;32m--> 563\u001b[0m     \u001b[38;5;28;01mreturn\u001b[39;00m \u001b[38;5;28;43mself\u001b[39;49m\u001b[38;5;241;43m.\u001b[39;49m\u001b[43m_call_chain\u001b[49m\u001b[43m(\u001b[49m\u001b[38;5;241;43m*\u001b[39;49m\u001b[43margs\u001b[49m\u001b[43m)\u001b[49m\n",
      "File \u001b[1;32mc:\\Users\\anjus\\OneDrive\\Desktop\\Python\\.conda\\Lib\\urllib\\request.py:496\u001b[0m, in \u001b[0;36mOpenerDirector._call_chain\u001b[1;34m(self, chain, kind, meth_name, *args)\u001b[0m\n\u001b[0;32m    494\u001b[0m \u001b[38;5;28;01mfor\u001b[39;00m handler \u001b[38;5;129;01min\u001b[39;00m handlers:\n\u001b[0;32m    495\u001b[0m     func \u001b[38;5;241m=\u001b[39m \u001b[38;5;28mgetattr\u001b[39m(handler, meth_name)\n\u001b[1;32m--> 496\u001b[0m     result \u001b[38;5;241m=\u001b[39m \u001b[43mfunc\u001b[49m\u001b[43m(\u001b[49m\u001b[38;5;241;43m*\u001b[39;49m\u001b[43margs\u001b[49m\u001b[43m)\u001b[49m\n\u001b[0;32m    497\u001b[0m     \u001b[38;5;28;01mif\u001b[39;00m result \u001b[38;5;129;01mis\u001b[39;00m \u001b[38;5;129;01mnot\u001b[39;00m \u001b[38;5;28;01mNone\u001b[39;00m:\n\u001b[0;32m    498\u001b[0m         \u001b[38;5;28;01mreturn\u001b[39;00m result\n",
      "File \u001b[1;32mc:\\Users\\anjus\\OneDrive\\Desktop\\Python\\.conda\\Lib\\urllib\\request.py:643\u001b[0m, in \u001b[0;36mHTTPDefaultErrorHandler.http_error_default\u001b[1;34m(self, req, fp, code, msg, hdrs)\u001b[0m\n\u001b[0;32m    642\u001b[0m \u001b[38;5;28;01mdef\u001b[39;00m \u001b[38;5;21mhttp_error_default\u001b[39m(\u001b[38;5;28mself\u001b[39m, req, fp, code, msg, hdrs):\n\u001b[1;32m--> 643\u001b[0m     \u001b[38;5;28;01mraise\u001b[39;00m HTTPError(req\u001b[38;5;241m.\u001b[39mfull_url, code, msg, hdrs, fp)\n",
      "\u001b[1;31mHTTPError\u001b[0m: HTTP Error 404: Not Found"
     ]
    }
   ],
   "source": [
    "%%time\n",
    "for i in urls:\n",
    "    download_file(i)"
   ]
  },
  {
   "cell_type": "markdown",
   "metadata": {},
   "source": [
    "### Multithreading"
   ]
  },
  {
   "cell_type": "code",
   "execution_count": 35,
   "metadata": {},
   "outputs": [],
   "source": [
    "def mutithread_download(urls: list[str]):\n",
    "    # Create and start the threads\n",
    "    threads = []\n",
    "    for i in urls:\n",
    "        th = Thread(target=download_file, args=(i,))\n",
    "        th.start()\n",
    "        threads.append(th)\n",
    "\n",
    "    # Wait for all threads to finish\n",
    "    for th in threads:\n",
    "        th.join()"
   ]
  },
  {
   "cell_type": "code",
   "execution_count": 36,
   "metadata": {},
   "outputs": [
    {
     "data": {
      "text/plain": [
       "['https://raw.githubusercontent.com/utkarshg1/mlproject_regression/main/artifacts/data.csv',\n",
       " 'https://raw.githubusercontent.com/utkarshg1/mlproject_regression/main/artifacts/test.csv',\n",
       " 'https://raw.githubusercontent.com/utkarshg1/mlproject_regression/main/artifacts/train']"
      ]
     },
     "execution_count": 36,
     "metadata": {},
     "output_type": "execute_result"
    }
   ],
   "source": [
    "urls"
   ]
  },
  {
   "cell_type": "code",
   "execution_count": 37,
   "metadata": {},
   "outputs": [
    {
     "name": "stdout",
     "output_type": "stream",
     "text": [
      "data.csv download started ...\n",
      "test.csv download started ...\n",
      "train download started ...\n"
     ]
    },
    {
     "name": "stderr",
     "output_type": "stream",
     "text": [
      "Exception in thread Thread-276 (download_file):\n",
      "Traceback (most recent call last):\n",
      "  File \"c:\\Users\\anjus\\OneDrive\\Desktop\\Python\\.conda\\Lib\\threading.py\", line 1045, in _bootstrap_inner\n",
      "    self.run()\n",
      "  File \"c:\\Users\\anjus\\OneDrive\\Desktop\\Advance Python\\repository\\venv\\Lib\\site-packages\\ipykernel\\ipkernel.py\", line 766, in run_closure\n",
      "    _threading_Thread_run(self)\n",
      "  File \"c:\\Users\\anjus\\OneDrive\\Desktop\\Python\\.conda\\Lib\\threading.py\", line 982, in run\n",
      "    self._target(*self._args, **self._kwargs)\n",
      "  File \"C:\\Users\\anjus\\AppData\\Local\\Temp\\ipykernel_27128\\1616788656.py\", line 4, in download_file\n",
      "  File \"c:\\Users\\anjus\\OneDrive\\Desktop\\Python\\.conda\\Lib\\urllib\\request.py\", line 241, in urlretrieve\n",
      "    with contextlib.closing(urlopen(url, data)) as fp:\n",
      "                            ^^^^^^^^^^^^^^^^^^\n",
      "  File \"c:\\Users\\anjus\\OneDrive\\Desktop\\Python\\.conda\\Lib\\urllib\\request.py\", line 216, in urlopen\n",
      "    return opener.open(url, data, timeout)\n",
      "           ^^^^^^^^^^^^^^^^^^^^^^^^^^^^^^^\n",
      "  File \"c:\\Users\\anjus\\OneDrive\\Desktop\\Python\\.conda\\Lib\\urllib\\request.py\", line 525, in open\n",
      "    response = meth(req, response)\n",
      "               ^^^^^^^^^^^^^^^^^^^\n",
      "  File \"c:\\Users\\anjus\\OneDrive\\Desktop\\Python\\.conda\\Lib\\urllib\\request.py\", line 634, in http_response\n",
      "    response = self.parent.error(\n",
      "               ^^^^^^^^^^^^^^^^^^\n",
      "  File \"c:\\Users\\anjus\\OneDrive\\Desktop\\Python\\.conda\\Lib\\urllib\\request.py\", line 563, in error\n",
      "    return self._call_chain(*args)\n",
      "           ^^^^^^^^^^^^^^^^^^^^^^^\n",
      "  File \"c:\\Users\\anjus\\OneDrive\\Desktop\\Python\\.conda\\Lib\\urllib\\request.py\", line 496, in _call_chain\n",
      "    result = func(*args)\n",
      "             ^^^^^^^^^^^\n",
      "  File \"c:\\Users\\anjus\\OneDrive\\Desktop\\Python\\.conda\\Lib\\urllib\\request.py\", line 643, in http_error_default\n",
      "    raise HTTPError(req.full_url, code, msg, hdrs, fp)\n",
      "urllib.error.HTTPError: HTTP Error 404: Not Found\n"
     ]
    },
    {
     "name": "stdout",
     "output_type": "stream",
     "text": [
      "test.csv download complete\n",
      "data.csv download complete\n",
      "CPU times: total: 109 ms\n",
      "Wall time: 3.82 s\n"
     ]
    }
   ],
   "source": [
    "%%time\n",
    "mutithread_download(urls)"
   ]
  },
  {
   "cell_type": "markdown",
   "metadata": {},
   "source": [
    "## For downloading in this case Multithreading is 62.7 % faster"
   ]
  },
  {
   "cell_type": "code",
   "execution_count": null,
   "metadata": {},
   "outputs": [],
   "source": []
  }
 ],
 "metadata": {
  "kernelspec": {
   "display_name": "venv",
   "language": "python",
   "name": "python3"
  },
  "language_info": {
   "codemirror_mode": {
    "name": "ipython",
    "version": 3
   },
   "file_extension": ".py",
   "mimetype": "text/x-python",
   "name": "python",
   "nbconvert_exporter": "python",
   "pygments_lexer": "ipython3",
   "version": "3.11.9"
  }
 },
 "nbformat": 4,
 "nbformat_minor": 2
}
