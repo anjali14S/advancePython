{
 "cells": [
  {
   "cell_type": "markdown",
   "metadata": {},
   "source": [
    "### Variadic Function "
   ]
  },
  {
   "cell_type": "code",
   "execution_count": 1,
   "metadata": {},
   "outputs": [],
   "source": [
    "from warnings import filterwarnings\n",
    "filterwarnings(\"ignore\")"
   ]
  },
  {
   "cell_type": "markdown",
   "metadata": {},
   "source": [
    "### User defined function"
   ]
  },
  {
   "cell_type": "code",
   "execution_count": 2,
   "metadata": {},
   "outputs": [],
   "source": [
    "def multiply(a: int | float, b: int | float ) -> int|float:\n",
    "    \"\"\"\n",
    "    input : this function takes two number as input\n",
    "    output : multiplication\n",
    "    \"\"\"\n",
    "    c = a*b\n",
    "    return c\n"
   ]
  },
  {
   "cell_type": "code",
   "execution_count": 7,
   "metadata": {},
   "outputs": [
    {
     "data": {
      "text/plain": [
       "168"
      ]
     },
     "execution_count": 7,
     "metadata": {},
     "output_type": "execute_result"
    }
   ],
   "source": [
    "multiply(12,14)"
   ]
  },
  {
   "cell_type": "code",
   "execution_count": 5,
   "metadata": {},
   "outputs": [],
   "source": [
    "# Argument in Function \n",
    "m1 = multiply(3, 4)"
   ]
  },
  {
   "cell_type": "code",
   "execution_count": 6,
   "metadata": {},
   "outputs": [
    {
     "data": {
      "text/plain": [
       "12"
      ]
     },
     "execution_count": 6,
     "metadata": {},
     "output_type": "execute_result"
    }
   ],
   "source": [
    "m1"
   ]
  },
  {
   "cell_type": "code",
   "execution_count": 8,
   "metadata": {},
   "outputs": [],
   "source": [
    "# Keywords argument\n",
    "m2 = multiply(a=12.5, b=5.2)"
   ]
  },
  {
   "cell_type": "code",
   "execution_count": 9,
   "metadata": {},
   "outputs": [
    {
     "data": {
      "text/plain": [
       "65.0"
      ]
     },
     "execution_count": 9,
     "metadata": {},
     "output_type": "execute_result"
    }
   ],
   "source": [
    "m2"
   ]
  },
  {
   "cell_type": "markdown",
   "metadata": {},
   "source": [
    "## Arguments in Functions\n",
    "1. *args = will act like a tuple in function"
   ]
  },
  {
   "cell_type": "code",
   "execution_count": 10,
   "metadata": {},
   "outputs": [],
   "source": [
    "def fun1(*args):\n",
    "    print(args)\n",
    "    print(type(args))\n",
    "    for i in args:\n",
    "        print(i)"
   ]
  },
  {
   "cell_type": "code",
   "execution_count": 11,
   "metadata": {},
   "outputs": [
    {
     "name": "stdout",
     "output_type": "stream",
     "text": [
      "('anjali', True, 12.5, False)\n",
      "<class 'tuple'>\n",
      "anjali\n",
      "True\n",
      "12.5\n",
      "False\n"
     ]
    }
   ],
   "source": [
    "fun1(\"anjali\", True, 12.5, False)"
   ]
  },
  {
   "cell_type": "code",
   "execution_count": 12,
   "metadata": {},
   "outputs": [
    {
     "name": "stdout",
     "output_type": "stream",
     "text": [
      "('ETLHive',)\n",
      "<class 'tuple'>\n",
      "ETLHive\n"
     ]
    }
   ],
   "source": [
    "fun1(\"ETLHive\")"
   ]
  },
  {
   "cell_type": "markdown",
   "metadata": {},
   "source": [
    "### Pass list as an argument"
   ]
  },
  {
   "cell_type": "code",
   "execution_count": 13,
   "metadata": {},
   "outputs": [
    {
     "data": {
      "text/plain": [
       "list"
      ]
     },
     "execution_count": 13,
     "metadata": {},
     "output_type": "execute_result"
    }
   ],
   "source": [
    "a = [1, 2, 3, 4, 5, 6, 11, 12, 15, 120, 25]\n",
    "type(a)"
   ]
  },
  {
   "cell_type": "code",
   "execution_count": 14,
   "metadata": {},
   "outputs": [
    {
     "name": "stdout",
     "output_type": "stream",
     "text": [
      "(1, 2, 3, 4, 5, 6, 11, 12, 15, 120, 25)\n",
      "<class 'tuple'>\n",
      "1\n",
      "2\n",
      "3\n",
      "4\n",
      "5\n",
      "6\n",
      "11\n",
      "12\n",
      "15\n",
      "120\n",
      "25\n"
     ]
    }
   ],
   "source": [
    "fun1(*a)"
   ]
  },
  {
   "cell_type": "markdown",
   "metadata": {},
   "source": [
    "### Write a Variadic Function to apply multiplication on all arguments"
   ]
  },
  {
   "cell_type": "code",
   "execution_count": 15,
   "metadata": {},
   "outputs": [],
   "source": [
    "def product(*args):\n",
    "    # intialise the product to 1\n",
    "    p = 1\n",
    "\n",
    "    # apply for loop on args\n",
    "    for i in args:\n",
    "        p = p * i\n",
    "\n",
    "    # return the value of product\n",
    "    return p"
   ]
  },
  {
   "cell_type": "code",
   "execution_count": 16,
   "metadata": {},
   "outputs": [
    {
     "data": {
      "text/plain": [
       "40"
      ]
     },
     "execution_count": 16,
     "metadata": {},
     "output_type": "execute_result"
    }
   ],
   "source": [
    "product(5, 8)"
   ]
  },
  {
   "cell_type": "code",
   "execution_count": 18,
   "metadata": {},
   "outputs": [
    {
     "data": {
      "text/plain": [
       "498960"
      ]
     },
     "execution_count": 18,
     "metadata": {},
     "output_type": "execute_result"
    }
   ],
   "source": [
    "product(12, 33, 4, 7, 9, 5)"
   ]
  },
  {
   "cell_type": "code",
   "execution_count": 21,
   "metadata": {},
   "outputs": [
    {
     "data": {
      "text/plain": [
       "117089280"
      ]
     },
     "execution_count": 21,
     "metadata": {},
     "output_type": "execute_result"
    }
   ],
   "source": [
    "b = [1, 2, 33, 14, 16, 22, 24, 15]\n",
    "product(*b)"
   ]
  },
  {
   "cell_type": "markdown",
   "metadata": {},
   "source": [
    "### Billing Example"
   ]
  },
  {
   "cell_type": "code",
   "execution_count": 3,
   "metadata": {},
   "outputs": [],
   "source": [
    "c1 = [\n",
    "    (\"Mobile\", 35000, 2),\n",
    "    (\"Screen Gaurd\", 1200, 4),\n",
    "    (\"Cover\", 300, 4)\n",
    "]"
   ]
  },
  {
   "cell_type": "markdown",
   "metadata": {},
   "source": [
    "### For above cart value do the billing and add tax rate"
   ]
  },
  {
   "cell_type": "code",
   "execution_count": 4,
   "metadata": {},
   "outputs": [],
   "source": [
    "def billing(tax_rate: int|float, *args):\n",
    "    # Initialize tootal before tax\n",
    "    total_before_tax = 0\n",
    "    \n",
    "    # Apply for loop on args\n",
    "    for name, price, qty in args:\n",
    "        item_total = price*qty\n",
    "        total_before_tax = total_before_tax + item_total\n",
    "        print(f\"Product Name: {name}, Price: {price} INR, Quantity: {qty} Nos \")\n",
    "        print(f\"Item Total : {item_total : .2f} INR\")\n",
    "        print(\"\\n*************************************************\\n\")\n",
    "    \n",
    "    # Apply tax on total before tax\n",
    "    tax = (tax_rate/100)*total_before_tax\n",
    "    final_amount = total_before_tax + tax\n",
    "    \n",
    "    # Show the tax and final total\n",
    "    print(f\"Total before Tax : {total_before_tax : .2f} INR\")\n",
    "    print(f\"Tax : {tax: .2f} INR\")\n",
    "    print(f\"Final Total : {final_amount : .2f} INR\")\n",
    "    \n",
    "    # Return the value of final total\n",
    "    return final_amount\n",
    "    "
   ]
  },
  {
   "cell_type": "code",
   "execution_count": 5,
   "metadata": {},
   "outputs": [
    {
     "data": {
      "text/plain": [
       "[('Mobile', 35000, 2), ('Screen Gaurd', 1200, 4), ('Cover', 300, 4)]"
      ]
     },
     "execution_count": 5,
     "metadata": {},
     "output_type": "execute_result"
    }
   ],
   "source": [
    "c1"
   ]
  },
  {
   "cell_type": "code",
   "execution_count": 30,
   "metadata": {},
   "outputs": [
    {
     "name": "stdout",
     "output_type": "stream",
     "text": [
      "Product Name: Mobile, Price: 35000 INR, Quantity: 2 Nos \n",
      "\n",
      "*************************************************\n",
      "\n",
      "Product Name: Screen Gaurd, Price: 1200 INR, Quantity: 4 Nos \n",
      "\n",
      "*************************************************\n",
      "\n",
      "Product Name: Cover, Price: 300 INR, Quantity: 4 Nos \n",
      "\n",
      "*************************************************\n",
      "\n",
      "Total before Tax :  76000.00 INR\n",
      "Tax :  13680.00 INR\n",
      "Final Total :  89680.00 INR\n"
     ]
    }
   ],
   "source": [
    "a1 = billing(18, *c1)"
   ]
  },
  {
   "cell_type": "code",
   "execution_count": 6,
   "metadata": {},
   "outputs": [
    {
     "name": "stdout",
     "output_type": "stream",
     "text": [
      "Product Name: Laptop, Price: 70000 INR, Quantity: 1 Nos \n",
      "Item Total :  70000.00 INR\n",
      "\n",
      "*************************************************\n",
      "\n",
      "Product Name: mouse, Price: 800 INR, Quantity: 2 Nos \n",
      "Item Total :  1600.00 INR\n",
      "\n",
      "*************************************************\n",
      "\n",
      "Product Name: keyboard, Price: 1500 INR, Quantity: 1 Nos \n",
      "Item Total :  1500.00 INR\n",
      "\n",
      "*************************************************\n",
      "\n",
      "Product Name: mouse pad, Price: 300 INR, Quantity: 2 Nos \n",
      "Item Total :  600.00 INR\n",
      "\n",
      "*************************************************\n",
      "\n",
      "Product Name: keyboard cover, Price: 400 INR, Quantity: 1 Nos \n",
      "Item Total :  400.00 INR\n",
      "\n",
      "*************************************************\n",
      "\n",
      "Total before Tax :  74100.00 INR\n",
      "Tax :  13338.00 INR\n",
      "Final Total :  87438.00 INR\n"
     ]
    }
   ],
   "source": [
    "a2 = billing(\n",
    "    18,\n",
    "    (\"Laptop\", 70000, 1),\n",
    "    (\"mouse\", 800, 2),\n",
    "    (\"keyboard\", 1500, 1),\n",
    "    (\"mouse pad\", 300, 2),\n",
    "    (\"keyboard cover\", 400, 1)\n",
    ")"
   ]
  },
  {
   "cell_type": "code",
   "execution_count": null,
   "metadata": {},
   "outputs": [],
   "source": []
  },
  {
   "cell_type": "code",
   "execution_count": null,
   "metadata": {},
   "outputs": [],
   "source": []
  }
 ],
 "metadata": {
  "kernelspec": {
   "display_name": "venv",
   "language": "python",
   "name": "python3"
  },
  "language_info": {
   "codemirror_mode": {
    "name": "ipython",
    "version": 3
   },
   "file_extension": ".py",
   "mimetype": "text/x-python",
   "name": "python",
   "nbconvert_exporter": "python",
   "pygments_lexer": "ipython3",
   "version": "3.11.9"
  }
 },
 "nbformat": 4,
 "nbformat_minor": 2
}
